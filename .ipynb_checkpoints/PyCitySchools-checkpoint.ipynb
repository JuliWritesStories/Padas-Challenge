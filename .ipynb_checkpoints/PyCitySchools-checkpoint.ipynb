{
 "cells": [
  {
   "cell_type": "markdown",
   "id": "ebb675a9",
   "metadata": {},
   "source": [
    "# Juliet Messier's PyCity Schools Assignment"
   ]
  },
  {
   "cell_type": "code",
   "execution_count": 2,
   "id": "613333f0",
   "metadata": {},
   "outputs": [],
   "source": [
    "# Set Up Pandas\n",
    "import numpy as np\n",
    "import pandas as pd"
   ]
  },
  {
   "cell_type": "code",
   "execution_count": 3,
   "id": "75994e70",
   "metadata": {},
   "outputs": [],
   "source": [
    "#import the csvs\n",
    "School_Data = \"Resources/schools_complete.csv\"\n",
    "Student_Data = \"Resources/students_complete.csv\""
   ]
  },
  {
   "cell_type": "code",
   "execution_count": 4,
   "id": "2510be4c",
   "metadata": {},
   "outputs": [],
   "source": [
    "#Read the csvs\n",
    "School_RD = pd.read_csv(School_Data)\n",
    "Student_RD = pd.read_csv(Student_Data)"
   ]
  },
  {
   "cell_type": "code",
   "execution_count": 5,
   "id": "bb3fa294",
   "metadata": {},
   "outputs": [],
   "source": [
    "#combine the csvs\n",
    "Combo_Data = pd.merge(Student_RD, School_RD, how=\"left\", on=[\"school_name\", \"school_name\"])"
   ]
  },
  {
   "cell_type": "code",
   "execution_count": 6,
   "id": "8bdbd14a",
   "metadata": {},
   "outputs": [
    {
     "data": {
      "text/html": [
       "<div>\n",
       "<style scoped>\n",
       "    .dataframe tbody tr th:only-of-type {\n",
       "        vertical-align: middle;\n",
       "    }\n",
       "\n",
       "    .dataframe tbody tr th {\n",
       "        vertical-align: top;\n",
       "    }\n",
       "\n",
       "    .dataframe thead th {\n",
       "        text-align: right;\n",
       "    }\n",
       "</style>\n",
       "<table border=\"1\" class=\"dataframe\">\n",
       "  <thead>\n",
       "    <tr style=\"text-align: right;\">\n",
       "      <th></th>\n",
       "      <th>Student ID</th>\n",
       "      <th>student_name</th>\n",
       "      <th>gender</th>\n",
       "      <th>grade</th>\n",
       "      <th>school_name</th>\n",
       "      <th>reading_score</th>\n",
       "      <th>math_score</th>\n",
       "      <th>School ID</th>\n",
       "      <th>type</th>\n",
       "      <th>size</th>\n",
       "      <th>budget</th>\n",
       "    </tr>\n",
       "  </thead>\n",
       "  <tbody>\n",
       "    <tr>\n",
       "      <th>0</th>\n",
       "      <td>0</td>\n",
       "      <td>Paul Bradley</td>\n",
       "      <td>M</td>\n",
       "      <td>9th</td>\n",
       "      <td>Huang High School</td>\n",
       "      <td>66</td>\n",
       "      <td>79</td>\n",
       "      <td>0</td>\n",
       "      <td>District</td>\n",
       "      <td>2917</td>\n",
       "      <td>1910635</td>\n",
       "    </tr>\n",
       "    <tr>\n",
       "      <th>1</th>\n",
       "      <td>1</td>\n",
       "      <td>Victor Smith</td>\n",
       "      <td>M</td>\n",
       "      <td>12th</td>\n",
       "      <td>Huang High School</td>\n",
       "      <td>94</td>\n",
       "      <td>61</td>\n",
       "      <td>0</td>\n",
       "      <td>District</td>\n",
       "      <td>2917</td>\n",
       "      <td>1910635</td>\n",
       "    </tr>\n",
       "    <tr>\n",
       "      <th>2</th>\n",
       "      <td>2</td>\n",
       "      <td>Kevin Rodriguez</td>\n",
       "      <td>M</td>\n",
       "      <td>12th</td>\n",
       "      <td>Huang High School</td>\n",
       "      <td>90</td>\n",
       "      <td>60</td>\n",
       "      <td>0</td>\n",
       "      <td>District</td>\n",
       "      <td>2917</td>\n",
       "      <td>1910635</td>\n",
       "    </tr>\n",
       "    <tr>\n",
       "      <th>3</th>\n",
       "      <td>3</td>\n",
       "      <td>Dr. Richard Scott</td>\n",
       "      <td>M</td>\n",
       "      <td>12th</td>\n",
       "      <td>Huang High School</td>\n",
       "      <td>67</td>\n",
       "      <td>58</td>\n",
       "      <td>0</td>\n",
       "      <td>District</td>\n",
       "      <td>2917</td>\n",
       "      <td>1910635</td>\n",
       "    </tr>\n",
       "    <tr>\n",
       "      <th>4</th>\n",
       "      <td>4</td>\n",
       "      <td>Bonnie Ray</td>\n",
       "      <td>F</td>\n",
       "      <td>9th</td>\n",
       "      <td>Huang High School</td>\n",
       "      <td>97</td>\n",
       "      <td>84</td>\n",
       "      <td>0</td>\n",
       "      <td>District</td>\n",
       "      <td>2917</td>\n",
       "      <td>1910635</td>\n",
       "    </tr>\n",
       "  </tbody>\n",
       "</table>\n",
       "</div>"
      ],
      "text/plain": [
       "   Student ID       student_name gender grade        school_name  \\\n",
       "0           0       Paul Bradley      M   9th  Huang High School   \n",
       "1           1       Victor Smith      M  12th  Huang High School   \n",
       "2           2    Kevin Rodriguez      M  12th  Huang High School   \n",
       "3           3  Dr. Richard Scott      M  12th  Huang High School   \n",
       "4           4         Bonnie Ray      F   9th  Huang High School   \n",
       "\n",
       "   reading_score  math_score  School ID      type  size   budget  \n",
       "0             66          79          0  District  2917  1910635  \n",
       "1             94          61          0  District  2917  1910635  \n",
       "2             90          60          0  District  2917  1910635  \n",
       "3             67          58          0  District  2917  1910635  \n",
       "4             97          84          0  District  2917  1910635  "
      ]
     },
     "execution_count": 6,
     "metadata": {},
     "output_type": "execute_result"
    }
   ],
   "source": [
    "#Display the new dataframe\n",
    "Combo_Data.head()"
   ]
  },
  {
   "cell_type": "markdown",
   "id": "c9864de3",
   "metadata": {},
   "source": [
    "# Juliet Messier's District Summary"
   ]
  },
  {
   "cell_type": "code",
   "execution_count": 8,
   "id": "90221c17",
   "metadata": {},
   "outputs": [
    {
     "data": {
      "text/plain": [
       "15"
      ]
     },
     "execution_count": 8,
     "metadata": {},
     "output_type": "execute_result"
    }
   ],
   "source": [
    "# Find the total number of unique schools\n",
    "Total_Schools = len(Combo_Data[\"school_name\"].unique())\n",
    "Total_Schools"
   ]
  },
  {
   "cell_type": "code",
   "execution_count": 10,
   "id": "3bce4061",
   "metadata": {},
   "outputs": [
    {
     "data": {
      "text/plain": [
       "39170"
      ]
     },
     "execution_count": 10,
     "metadata": {},
     "output_type": "execute_result"
    }
   ],
   "source": [
    "# Find the total number of students\n",
    "Total_Students = Combo_Data[\"Student ID\"].count()\n",
    "Total_Students"
   ]
  },
  {
   "cell_type": "code",
   "execution_count": 12,
   "id": "60f8d9b1",
   "metadata": {},
   "outputs": [
    {
     "data": {
      "text/plain": [
       "82932329558"
      ]
     },
     "execution_count": 12,
     "metadata": {},
     "output_type": "execute_result"
    }
   ],
   "source": [
    "# Find the total Budget\n",
    "Total_Budget = Combo_Data[\"budget\"].sum()\n",
    "Total_Budget"
   ]
  },
  {
   "cell_type": "code",
   "execution_count": 14,
   "id": "74ec6b54",
   "metadata": {},
   "outputs": [
    {
     "data": {
      "text/plain": [
       "78.98537145774827"
      ]
     },
     "execution_count": 14,
     "metadata": {},
     "output_type": "execute_result"
    }
   ],
   "source": [
    "# Find the Average Math Score\n",
    "Average_Math = Combo_Data[\"math_score\"].mean()\n",
    "Average_Math"
   ]
  },
  {
   "cell_type": "code",
   "execution_count": 16,
   "id": "77e86f2e",
   "metadata": {},
   "outputs": [
    {
     "data": {
      "text/plain": [
       "81.87784018381414"
      ]
     },
     "execution_count": 16,
     "metadata": {},
     "output_type": "execute_result"
    }
   ],
   "source": [
    "# Find the Average Reading Score\n",
    "Average_Reading = Combo_Data[\"reading_score\"].mean()\n",
    "Average_Reading"
   ]
  },
  {
   "cell_type": "code",
   "execution_count": 28,
   "id": "c5d50562",
   "metadata": {},
   "outputs": [
    {
     "data": {
      "text/plain": [
       "29370"
      ]
     },
     "execution_count": 28,
     "metadata": {},
     "output_type": "execute_result"
    }
   ],
   "source": [
    "# Part 1 of Find the percent passing math TOTAL \n",
    "Passing_Math_Total = Combo_Data[(Combo_Data[\"math_score\"] >= 70)].count()[\"Student ID\"]\n",
    "Passing_Math_Total"
   ]
  },
  {
   "cell_type": "code",
   "execution_count": 29,
   "id": "e50f5b44",
   "metadata": {},
   "outputs": [
    {
     "data": {
      "text/plain": [
       "74.9808526933878"
      ]
     },
     "execution_count": 29,
     "metadata": {},
     "output_type": "execute_result"
    }
   ],
   "source": [
    "# Part 2 of Find the percent passing math PERCENT\n",
    "Passing_Math_Percent = Passing_Math_Total / float(Total_Students) * 100\n",
    "Passing_Math_Percent"
   ]
  },
  {
   "cell_type": "code",
   "execution_count": 30,
   "id": "a5d6e62a",
   "metadata": {},
   "outputs": [
    {
     "data": {
      "text/plain": [
       "33610"
      ]
     },
     "execution_count": 30,
     "metadata": {},
     "output_type": "execute_result"
    }
   ],
   "source": [
    "# Part 1 of Find the percent passing Reading TOTAL\n",
    "Passing_Reading_Total = Combo_Data[(Combo_Data[\"reading_score\"] >= 70)].count()[\"Student ID\"]\n",
    "Passing_Reading_Total"
   ]
  },
  {
   "cell_type": "code",
   "execution_count": 31,
   "id": "afd152d1",
   "metadata": {},
   "outputs": [
    {
     "data": {
      "text/plain": [
       "85.80546336482001"
      ]
     },
     "execution_count": 31,
     "metadata": {},
     "output_type": "execute_result"
    }
   ],
   "source": [
    "# Part 2 of Find the Percent passing Reading PERCENT\n",
    "Passing_Reading_Percent = Passing_Reading_Total / float(Total_Students) * 100\n",
    "Passing_Reading_Percent"
   ]
  },
  {
   "cell_type": "code",
   "execution_count": 35,
   "id": "d880000a",
   "metadata": {},
   "outputs": [
    {
     "data": {
      "text/plain": [
       "25528"
      ]
     },
     "execution_count": 35,
     "metadata": {},
     "output_type": "execute_result"
    }
   ],
   "source": [
    "# Part 1 of Find the Percent Passing Math and Reading TOTAL\n",
    "Passing_Math_and_Reading = Combo_Data[(Combo_Data[\"reading_score\"] >= 70) & (Combo_Data[\"math_score\"] >= 70)].count()[\"Student ID\"]\n",
    "Passing_Math_and_Reading"
   ]
  },
  {
   "cell_type": "code",
   "execution_count": 37,
   "id": "a63dd9a7",
   "metadata": {},
   "outputs": [
    {
     "data": {
      "text/plain": [
       "65.17232575950983"
      ]
     },
     "execution_count": 37,
     "metadata": {},
     "output_type": "execute_result"
    }
   ],
   "source": [
    "# Part 2 of Find the Percent Passing Math and Reading PERCENT\n",
    "Percent_Passing_MR = Passing_Math_and_Reading / float(Total_Students) * 100\n",
    "Percent_Passing_MR"
   ]
  },
  {
   "cell_type": "code",
   "execution_count": 41,
   "id": "98209876",
   "metadata": {},
   "outputs": [
    {
     "data": {
      "text/html": [
       "<div>\n",
       "<style scoped>\n",
       "    .dataframe tbody tr th:only-of-type {\n",
       "        vertical-align: middle;\n",
       "    }\n",
       "\n",
       "    .dataframe tbody tr th {\n",
       "        vertical-align: top;\n",
       "    }\n",
       "\n",
       "    .dataframe thead th {\n",
       "        text-align: right;\n",
       "    }\n",
       "</style>\n",
       "<table border=\"1\" class=\"dataframe\">\n",
       "  <thead>\n",
       "    <tr style=\"text-align: right;\">\n",
       "      <th></th>\n",
       "      <th>Total Students</th>\n",
       "      <th>Total Schools</th>\n",
       "      <th>Total Budget</th>\n",
       "      <th>Average Math Score</th>\n",
       "      <th>Average Reading Score</th>\n",
       "      <th>Percent Passing Math</th>\n",
       "      <th>Percent Passing Reading</th>\n",
       "      <th>Percent Passing Math and Reading</th>\n",
       "    </tr>\n",
       "  </thead>\n",
       "  <tbody>\n",
       "    <tr>\n",
       "      <th>0</th>\n",
       "      <td>39,170</td>\n",
       "      <td>15</td>\n",
       "      <td>$82,932,329,558.00</td>\n",
       "      <td>78.985371</td>\n",
       "      <td>81.87784</td>\n",
       "      <td>74.980853</td>\n",
       "      <td>85.805463</td>\n",
       "      <td>65.172326</td>\n",
       "    </tr>\n",
       "  </tbody>\n",
       "</table>\n",
       "</div>"
      ],
      "text/plain": [
       "  Total Students  Total Schools        Total Budget  Average Math Score  \\\n",
       "0         39,170             15  $82,932,329,558.00           78.985371   \n",
       "\n",
       "   Average Reading Score  Percent Passing Math  Percent Passing Reading  \\\n",
       "0               81.87784             74.980853                85.805463   \n",
       "\n",
       "   Percent Passing Math and Reading  \n",
       "0                         65.172326  "
      ]
     },
     "execution_count": 41,
     "metadata": {},
     "output_type": "execute_result"
    }
   ],
   "source": [
    "# Create a new data frame called District Summary\n",
    "District_Summary = pd.DataFrame({\"Total Students\":[Total_Students],\"Total Schools\":[Total_Schools],\n",
    "                                 \"Total Budget\":[Total_Budget],\"Average Math Score\": [Average_Math],\n",
    "                                 \"Average Reading Score\": [Average_Reading],\"Percent Passing Math\": [Passing_Math_Percent],\n",
    "                                \"Percent Passing Reading\": [Passing_Reading_Percent],\n",
    "                                 \"Percent Passing Math and Reading\":[Percent_Passing_MR]})\n",
    "#Format with Starter Code\n",
    "District_Summary[\"Total Students\"] = District_Summary[\"Total Students\"].map(\"{:,}\".format)\n",
    "District_Summary[\"Total Budget\"] = District_Summary[\"Total Budget\"].map(\"${:,.2f}\".format)\n",
    "\n",
    "#Call the Data Frame\n",
    "District_Summary"
   ]
  },
  {
   "cell_type": "code",
   "execution_count": null,
   "id": "e3539718",
   "metadata": {},
   "outputs": [],
   "source": []
  }
 ],
 "metadata": {
  "kernelspec": {
   "display_name": "Python 3 (ipykernel)",
   "language": "python",
   "name": "python3"
  },
  "language_info": {
   "codemirror_mode": {
    "name": "ipython",
    "version": 3
   },
   "file_extension": ".py",
   "mimetype": "text/x-python",
   "name": "python",
   "nbconvert_exporter": "python",
   "pygments_lexer": "ipython3",
   "version": "3.11.5"
  }
 },
 "nbformat": 4,
 "nbformat_minor": 5
}
